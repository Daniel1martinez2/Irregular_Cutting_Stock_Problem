{
  "cells": [
    {
      "cell_type": "markdown",
      "metadata": {
        "id": "dtU09RsQXtcL"
      },
      "source": [
        "Este colab fue adaptado por Arnold Charry y Valeria Palacio."
      ]
    },
    {
      "cell_type": "markdown",
      "metadata": {},
      "source": [
        "# Packer example"
      ]
    },
    {
      "cell_type": "code",
      "execution_count": 8,
      "metadata": {},
      "outputs": [],
      "source": [
        "from rectpack import newPacker\n",
        "\n",
        "\n",
        "\n",
        "rectangles = [\n",
        "    (3073.0739135742188, 1851.681884765625),\n",
        "\t(437.0, 3903.0),\n",
        "\t(3848.6281204223633, 2285.76953125),\n",
        "]\n",
        "bins = [(10000, 10000)]\n",
        "\n",
        "packer = newPacker(rotation=False)\n",
        "\n",
        "# Add the rectangles to packing queue\n",
        "for r in rectangles:\n",
        "\tpacker.add_rect(*r)\n",
        "\n",
        "# Add the bins where the rectangles will be placed\n",
        "for b in bins:\n",
        "\tpacker.add_bin(*b)\n",
        "\n",
        "# Start packing\n",
        "packer.pack()"
      ]
    },
    {
      "cell_type": "code",
      "execution_count": 9,
      "metadata": {},
      "outputs": [],
      "source": [
        "# Obtain number of bins used for packing\n",
        "nbins = len(packer)\n",
        "\n",
        "# Index first bin\n",
        "abin = packer[0]\n",
        "\n",
        "# Bin dimmensions (bins can be reordered during packing)\n",
        "width, height = abin.width, abin.height\n",
        "\n",
        "# Number of rectangles packed into first bin\n",
        "nrect = len(packer[0])\n",
        "\n",
        "\n",
        "rect = packer[0][0]\n",
        "\n",
        "# rect is a Rectangle object\n",
        "x = rect.x # rectangle bottom-left x coordinate\n",
        "y = rect.y # rectangle bottom-left y coordinate\n",
        "w = rect.width\n",
        "h = rect.height"
      ]
    },
    {
      "cell_type": "code",
      "execution_count": 10,
      "metadata": {},
      "outputs": [
        {
          "name": "stdout",
          "output_type": "stream",
          "text": [
            "None\n",
            "R(0, 0, 3848.6281204223633, 2285.76953125)\n",
            "R(3848.6281204223633, 0, 3073.0739135742188, 1851.681884765625)\n",
            "R(6921.702033996582, 0, 437.0, 3903.0)\n"
          ]
        }
      ],
      "source": [
        "recs = []\n",
        "\n",
        "for abin in packer:\n",
        "  print(abin.bid) # Bin id if it has one\n",
        "  for rect in abin:\n",
        "    print(rect)\n",
        "    recs.append((rect.x, rect.y, rect.width, rect.height))"
      ]
    },
    {
      "cell_type": "code",
      "execution_count": 11,
      "metadata": {},
      "outputs": [
        {
          "data": {
            "image/png": "[encoded data removed]",
            "text/plain": [
              "<Figure size 640x480 with 1 Axes>"
            ]
          },
          "metadata": {},
          "output_type": "display_data"
        }
      ],
      "source": [
        "import matplotlib.pyplot as plt\n",
        "import matplotlib.patches as patches\n",
        "\n",
        "def plot_rectangles(rectangles, color='none'):\n",
        "    \"\"\"\n",
        "    Plots a list of rectangles with the same fill color.\n",
        "    \n",
        "    Parameters:\n",
        "    rectangles (list of tuples): Each tuple contains 4 elements representing the coordinates and size of a rectangle (x, y, width, height).\n",
        "    color (str): The fill color for all rectangles.\n",
        "    \"\"\"\n",
        "    fig, ax = plt.subplots()\n",
        "    \n",
        "    for rect in rectangles:\n",
        "        # Unpack the rectangle coordinates and size\n",
        "        x, y, width, height = rect\n",
        "        \n",
        "        # Create a rectangle patch\n",
        "        rect_patch = patches.Rectangle((x, y), width, height, linewidth=2, edgecolor='black', facecolor=color, alpha=0.5)\n",
        "        \n",
        "        # Add the rectangle patch to the plot\n",
        "        ax.add_patch(rect_patch)\n",
        "    \n",
        "    # Set the limits of the plot\n",
        "    ax.set_xlim(0, max(x + width for x, y, width, height in rectangles))\n",
        "    ax.set_ylim(0, max(y + height for x, y, width, height in rectangles))\n",
        "    \n",
        "    # Display the plot\n",
        "    plt.gca().set_aspect('equal', adjustable='box')\n",
        "    plt.show()\n",
        "\n",
        "# Example usage\n",
        "\n",
        "plot_rectangles(recs, color='blue')"
      ]
    }
  ],
  "metadata": {
    "colab": {
      "provenance": []
    },
    "kernelspec": {
      "display_name": "Python 3",
      "name": "python3"
    },
    "language_info": {
      "codemirror_mode": {
        "name": "ipython",
        "version": 3
      },
      "file_extension": ".py",
      "mimetype": "text/x-python",
      "name": "python",
      "nbconvert_exporter": "python",
      "pygments_lexer": "ipython3",
      "version": "3.8.15"
    }
  },
  "nbformat": 4,
  "nbformat_minor": 0
}
